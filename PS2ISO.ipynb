{
 "cells": [
  {
   "cell_type": "code",
   "execution_count": null,
   "id": "ecbd8228",
   "metadata": {},
   "outputs": [],
   "source": [
    "import ipywidgets as widgets\n",
    "from ipywidgets import Label, Layout, HBox, HTML\n",
    "import IPython\n",
    "import IPython.display as display\n",
    "from ipyevents import Event\n",
    "import pathlib\n",
    "import pycdlib\n",
    "import fnmatch\n",
    "from IPython.core.display import HTML\n",
    "from path import Path\n",
    "from urllib.request import urlopen\n",
    "from ipywidgets import GridspecLayout\n",
    "import math\n",
    "import os\n",
    "import re"
   ]
  },
  {
   "cell_type": "code",
   "execution_count": null,
   "id": "1196a248",
   "metadata": {},
   "outputs": [],
   "source": [
    "!jupyter serverextension enable --user voila ipyevents"
   ]
  },
  {
   "cell_type": "code",
   "execution_count": null,
   "id": "460856e6",
   "metadata": {},
   "outputs": [],
   "source": [
    "pattern = [\"ALCH*\",\"CPCS*\",\"GUST*\",\"PAPX*\",\"PBGP*\",\"PBPX*\",\"PCPX*\",\"PDPX*\",\n",
    "           \"PKP2*\",\"SCAJ*\",\"SCCS*\",\"SCED*\",\"SCES*\",\"SCKA*\",\"SCPM*\",\"SCPN*\",\"SCPS*\",\n",
    "           \"SCUS*\",\"SLAJ*\",\"SLED*\",\"SLES*\",\"SLKA*\",\"SLPM*\",\"SLPS*\",\"SLUS*\",\"TCES*\",\n",
    "           \"TCPS*\",\"TLES*\", \"VW067*\"]\n",
    "\n",
    "iso = pycdlib.PyCdlib()\n",
    "gamelist = list(pathlib.Path(os.getcwd()).glob('*.iso'))\n",
    "id_dictionary = {}\n",
    "\n",
    "for x in range (len(gamelist)):\n",
    "    iso.open(str(gamelist[x]).replace(os.getcwd() + '\\\\',''))\n",
    "    for child in iso.list_children(iso_path='/'):\n",
    "        for index in range(len(pattern)):\n",
    "            if fnmatch.fnmatch(child.file_identifier().decode(\"utf-8\"), pattern[index]):\n",
    "                id_dictionary[\"ID\" + str(x)] = child.file_identifier().decode(\"utf-8\").replace('_', '-').replace('.', '').replace(';1', '')\n",
    "                iso.close()"
   ]
  },
  {
   "cell_type": "code",
   "execution_count": null,
   "id": "30b64110",
   "metadata": {},
   "outputs": [],
   "source": [
    "%%html\n",
    "\n",
    "<style>\n",
    "\n",
    "*, ::before, ::after {\n",
    "    max-height: 530px;\n",
    "    flex-wrap: wrap;\n",
    "}\n",
    "\n",
    ".widget-html{\n",
    "    position: absolute;\n",
    "}\n",
    "\n",
    ".widget-html-content{\n",
    "    display: inherit;\n",
    "}\n",
    "\n",
    ".jp-Notebook {\n",
    "    background-color: black;\n",
    "}\n",
    "\n",
    "</style>"
   ]
  },
  {
   "cell_type": "code",
   "execution_count": null,
   "id": "13255c98",
   "metadata": {},
   "outputs": [],
   "source": [
    "coverrepository = \"<img src=\"\"https://raw.githubusercontent.com/xlenore/ps2-covers/main/covers/\"\"\"\n",
    "cover_dictionary = {}\n",
    "ending = \".jpg>\"\n",
    "coverstring = \"cover\"\n",
    "cover = {}\n",
    "\n",
    "for x in range(len(gamelist)):\n",
    "    cover[coverstring+str(x)] = widgets.HTML(coverrepository + id_dictionary['ID' + str(x)] + ending)\n",
    "\n",
    "locals().update(cover)\n",
    "coverlist = []\n",
    "\n",
    "for x in range(len(gamelist)):\n",
    "    coverlist.append(str(eval('cover' + str(x))).replace('HTML(value=\\'', '').replace('>\\')',' id=' + id_dictionary['ID' + str(x)] + '>'))\n",
    "\n",
    "sequence = ''.join(coverlist)\n",
    "\n",
    "l2 = widgets.HTML(sequence)\n",
    "h2 = widgets.HTML('Event info')\n",
    "d2 = Event(source=l2, watched_events=['click'])\n",
    "\n",
    "def handle_event(event):\n",
    "    h2.value = (f\"{event['target']['id']}\")\n",
    "    for x in range(len(gamelist)):\n",
    "        if h2.value == id_dictionary['ID' + str(x)]:\n",
    "            os.system('python send.py -i #YOURPS4IPv4 -f ' + '\\\"' + str(gamelist[x]).replace(os.getcwd() + '\\\\','') + '\\\"')\n",
    "        \n",
    "d2.on_dom_event(handle_event)\n",
    "display.display(l2)"
   ]
  }
 ],
 "metadata": {
  "kernelspec": {
   "display_name": "Python 3 (ipykernel)",
   "language": "python",
   "name": "python3"
  },
  "language_info": {
   "codemirror_mode": {
    "name": "ipython",
    "version": 3
   },
   "file_extension": ".py",
   "mimetype": "text/x-python",
   "name": "python",
   "nbconvert_exporter": "python",
   "pygments_lexer": "ipython3",
   "version": "3.11.2"
  },
  "widgets": {
   "application/vnd.jupyter.widget-state+json": {
    "state": {
     "29addec9313346b4bec9d75fa8855d96": {
      "model_module": "@jupyter-widgets/controls",
      "model_module_version": "2.0.0",
      "model_name": "TextStyleModel",
      "state": {
       "description_width": "",
       "font_size": null,
       "text_color": null
      }
     },
     "aedeba6d209242c5b11f790decf99889": {
      "model_module": "@jupyter-widgets/base",
      "model_module_version": "2.0.0",
      "model_name": "LayoutModel",
      "state": {}
     },
     "bac9b2b855604252a7480c642070e6cc": {
      "model_module": "@jupyter-widgets/controls",
      "model_module_version": "2.0.0",
      "model_name": "TextModel",
      "state": {
       "layout": "IPY_MODEL_aedeba6d209242c5b11f790decf99889",
       "placeholder": "Your name here",
       "style": "IPY_MODEL_29addec9313346b4bec9d75fa8855d96"
      }
     }
    },
    "version_major": 2,
    "version_minor": 0
   }
  }
 },
 "nbformat": 4,
 "nbformat_minor": 5
}
